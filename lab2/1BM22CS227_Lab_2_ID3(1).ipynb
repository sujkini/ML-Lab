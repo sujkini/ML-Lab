{
  "nbformat": 4,
  "nbformat_minor": 0,
  "metadata": {
    "colab": {
      "provenance": []
    },
    "kernelspec": {
      "name": "python3",
      "display_name": "Python 3"
    },
    "language_info": {
      "name": "python"
    }
  },
  "cells": [
    {
      "cell_type": "code",
      "execution_count": 16,
      "metadata": {
        "id": "UkhSu8aYRx4Y"
      },
      "outputs": [],
      "source": [
        "import numpy as np\n",
        "import matplotlib.pyplot as plt\n",
        "import pandas as pd\n",
        "import math\n",
        "import copy"
      ]
    },
    {
      "cell_type": "code",
      "source": [
        "dataset = pd.read_csv('/content/weather.csv')\n",
        "X = dataset.iloc[:,:].values\n",
        "X"
      ],
      "metadata": {
        "colab": {
          "base_uri": "https://localhost:8080/"
        },
        "id": "msOp-L4LS0vc",
        "outputId": "629dade9-b917-4440-f824-50f0c0920c07"
      },
      "execution_count": 17,
      "outputs": [
        {
          "output_type": "execute_result",
          "data": {
            "text/plain": [
              "array([['Sunny', 'Hot', 'High', 'Weak', 'No'],\n",
              "       ['Sunny', 'Hot', 'High', 'Strong', 'No'],\n",
              "       ['Overcast', 'Hot', 'High', 'Weak', 'Yes'],\n",
              "       ['Rain', 'Mild', 'High', 'Weak', 'Yes'],\n",
              "       ['Rain', 'Cool', 'Normal', 'Weak', 'Yes'],\n",
              "       ['Rain', 'Cool', 'Normal', 'Strong', 'No'],\n",
              "       ['Overcast', 'Cool', 'Normal', 'Strong', 'Yes'],\n",
              "       ['Sunny', 'Mild', 'High', 'Weak', 'No'],\n",
              "       ['Sunny', 'Cool', 'Normal', 'Weak', 'Yes'],\n",
              "       ['Rain', 'Mild', 'Normal', 'Weak', 'Yes'],\n",
              "       ['Sunny', 'Mild', 'Normal', 'Strong', 'Yes'],\n",
              "       ['Overcast', 'Mild', 'High', 'Strong', 'Yes'],\n",
              "       ['Overcast', 'Hot', 'Normal', 'Weak', 'Yes'],\n",
              "       ['Rain', 'Mild', 'High', 'Strong', 'No']], dtype=object)"
            ]
          },
          "metadata": {},
          "execution_count": 17
        }
      ]
    },
    {
      "cell_type": "code",
      "source": [
        "attribute = ['Outlook', 'Temp', 'Humidity', 'Wind']"
      ],
      "metadata": {
        "id": "stluudonS8fs"
      },
      "execution_count": 18,
      "outputs": []
    },
    {
      "cell_type": "code",
      "source": [
        "class Node(object):\n",
        "    def __init__(self):\n",
        "        self.value = None\n",
        "        self.decision = None\n",
        "        self.child = None"
      ],
      "metadata": {
        "id": "kK_46ictTdgk"
      },
      "execution_count": 19,
      "outputs": []
    },
    {
      "cell_type": "code",
      "source": [
        "def findEntropy(data, rows):\n",
        "    yes=0\n",
        "    no=0\n",
        "    ans=-1\n",
        "    idx=len(data[0])-1\n",
        "    entropy=0\n",
        "\n",
        "    for i in rows:\n",
        "        if data[i][idx]=='Yes':\n",
        "            yes=yes+1\n",
        "        else:\n",
        "            no=no+1\n",
        "\n",
        "    x=yes/(yes+no)\n",
        "    y=no/(yes+no)\n",
        "    if x!=0 and y!=0:\n",
        "        entropy= -1*(x*math.log2(x)+y*math.log2(y))\n",
        "    if x==1:\n",
        "        ans = 1\n",
        "    if y==1:\n",
        "        ans = 0\n",
        "    return entropy, ans"
      ],
      "metadata": {
        "id": "7xWOFqF_Teb0"
      },
      "execution_count": 20,
      "outputs": []
    },
    {
      "cell_type": "code",
      "source": [
        "def findMaxGain(data, rows, columns):\n",
        "    maxGain = 0\n",
        "    retidx = -1\n",
        "    entropy, ans = findEntropy(data, rows)\n",
        "    if entropy == 0:\n",
        "        \"\"\"if ans == 1:\n",
        "            print(\"Yes\")\n",
        "        else:\n",
        "            print(\"No\")\"\"\"\n",
        "        return maxGain, retidx, ans\n",
        "    for j in columns:\n",
        "        mydict = {}\n",
        "        idx = j\n",
        "        for i in rows:\n",
        "            key = data[i][idx]\n",
        "            if key not in mydict:\n",
        "                mydict[key] = 1\n",
        "            else:\n",
        "                mydict[key] = mydict[key] + 1\n",
        "        gain = entropy\n",
        "\n",
        "        # print(mydict)\n",
        "        for key in mydict:\n",
        "            yes = 0\n",
        "            no = 0\n",
        "            for k in rows:\n",
        "                if data[k][j] == key:\n",
        "                    if data[k][-1] == 'Yes':\n",
        "                        yes = yes + 1\n",
        "                    else:\n",
        "                        no = no + 1\n",
        "            # print(yes, no)\n",
        "            x = yes/(yes+no)\n",
        "            y = no/(yes+no)\n",
        "            # print(x, y)\n",
        "            if x != 0 and y != 0:\n",
        "                gain += (mydict[key] * (x*math.log2(x) + y*math.log2(y)))/14\n",
        "        # print(gain)\n",
        "        if gain > maxGain:\n",
        "            # print(\"hello\")\n",
        "            maxGain = gain\n",
        "            retidx = j\n",
        "\n",
        "    return maxGain, retidx, ans"
      ],
      "metadata": {
        "id": "3a14IE2hThWU"
      },
      "execution_count": 21,
      "outputs": []
    },
    {
      "cell_type": "code",
      "source": [
        "def buildTree(data, rows, columns):\n",
        "\n",
        "    maxGain, idx, ans = findMaxGain(X, rows, columns)\n",
        "    root = Node()\n",
        "    root.childs = []\n",
        "    # print(maxGain)\n",
        "\n",
        "    if maxGain == 0:\n",
        "        if ans == 1:\n",
        "            root.value = 'Yes'\n",
        "        else:\n",
        "            root.value = 'No'\n",
        "        return root\n",
        "\n",
        "    root.value = attribute[idx]\n",
        "    mydict = {}\n",
        "    for i in rows:\n",
        "        key = data[i][idx]\n",
        "        if key not in mydict:\n",
        "            mydict[key] = 1\n",
        "        else:\n",
        "            mydict[key] += 1\n",
        "\n",
        "    newcolumns = copy.deepcopy(columns)\n",
        "    newcolumns.remove(idx)\n",
        "    for key in mydict:\n",
        "        newrows = []\n",
        "        for i in rows:\n",
        "            if data[i][idx] == key:\n",
        "                newrows.append(i)\n",
        "        # print(newrows)\n",
        "        temp = buildTree(data, newrows, newcolumns)\n",
        "        temp.decision = key\n",
        "        root.childs.append(temp)\n",
        "    return root"
      ],
      "metadata": {
        "id": "Dp6fUrWQTk9k"
      },
      "execution_count": 22,
      "outputs": []
    },
    {
      "cell_type": "code",
      "source": [
        "def traverse(root, level=0):\n",
        "    # Create indentation based on the level\n",
        "    indent = \"    \" * level  # 4 spaces per level\n",
        "\n",
        "    # Print the decision and value of the current node with indentation\n",
        "    print(f\"{indent}├── Decision: {root.decision}, Value: {root.value}\")\n",
        "\n",
        "    # Traverse the children, if they exist\n",
        "    for i, child in enumerate(root.childs):\n",
        "        if i == len(root.childs) - 1:  # Last child\n",
        "            traverse(child, level + 1)\n",
        "        else:\n",
        "            traverse(child, level + 1)"
      ],
      "metadata": {
        "id": "98DraJOGTnrM"
      },
      "execution_count": 26,
      "outputs": []
    },
    {
      "cell_type": "code",
      "source": [
        "def calculate():\n",
        "    rows = [i for i in range(0, 14)]\n",
        "    columns = [i for i in range(0, 4)]\n",
        "    root = buildTree(X, rows, columns)\n",
        "    root.decision = 'Start'\n",
        "    traverse(root)"
      ],
      "metadata": {
        "id": "EeXWHAudTrB8"
      },
      "execution_count": 27,
      "outputs": []
    },
    {
      "cell_type": "code",
      "source": [
        "calculate()"
      ],
      "metadata": {
        "colab": {
          "base_uri": "https://localhost:8080/"
        },
        "id": "rVfNw_9RTwLc",
        "outputId": "1a6f97b5-4a44-4f84-eec3-e41c3bc06ba3"
      },
      "execution_count": 28,
      "outputs": [
        {
          "output_type": "stream",
          "name": "stdout",
          "text": [
            "├── Decision: Start, Value: Outlook\n",
            "    ├── Decision: Sunny, Value: Humidity\n",
            "        ├── Decision: High, Value: No\n",
            "        ├── Decision: Normal, Value: Yes\n",
            "    ├── Decision: Overcast, Value: Yes\n",
            "    ├── Decision: Rain, Value: Wind\n",
            "        ├── Decision: Weak, Value: Yes\n",
            "        ├── Decision: Strong, Value: No\n"
          ]
        }
      ]
    },
    {
      "cell_type": "code",
      "source": [
        "from graphviz import Source\n",
        "\n",
        "dot_code = \"\"\"\n",
        "digraph G {\n",
        "    edge [dir=forward]\n",
        "    node [shape=box, style=bold]\n",
        "\n",
        "    A [label=\"OUTLOOK\"]\n",
        "    B [label=\"HUMIDITY\"]\n",
        "    C [label=\"WIND\"]\n",
        "\n",
        "    D [label=\"NO\", shape=plaintext]\n",
        "    E [label=\"YES\", shape=plaintext]\n",
        "    F [label=\"YES\", shape=plaintext]\n",
        "    G [label=\"NO\", shape=plaintext]\n",
        "\n",
        "    A -> B [label=\"SUNNY\"]\n",
        "    A -> E [label=\"OVERCAST\"]\n",
        "    A -> C [label=\"RAIN\"]\n",
        "\n",
        "    B -> D [label=\"HIGH\"]\n",
        "    B -> F [label=\"NORMAL\"]\n",
        "\n",
        "    C -> F [label=\"WEAK\"]\n",
        "    C -> G [label=\"STRONG\"]\n",
        "}\n",
        "\"\"\"\n",
        "\n",
        "s = Source(dot_code, filename=\"decision_tree\", format=\"png\")\n",
        "s.view()\n"
      ],
      "metadata": {
        "colab": {
          "base_uri": "https://localhost:8080/",
          "height": 36
        },
        "id": "LoHb1BIzfETM",
        "outputId": "a764ace7-20b7-4d8f-db0e-3c215916eb6a"
      },
      "execution_count": 37,
      "outputs": [
        {
          "output_type": "execute_result",
          "data": {
            "text/plain": [
              "'decision_tree.png'"
            ],
            "application/vnd.google.colaboratory.intrinsic+json": {
              "type": "string"
            }
          },
          "metadata": {},
          "execution_count": 37
        }
      ]
    }
  ]
}